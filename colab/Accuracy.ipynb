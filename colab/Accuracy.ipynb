{
  "nbformat": 4,
  "nbformat_minor": 0,
  "metadata": {
    "colab": {
      "provenance": []
    },
    "kernelspec": {
      "name": "python3",
      "display_name": "Python 3"
    },
    "language_info": {
      "name": "python"
    }
  },
  "cells": [
    {
      "cell_type": "code",
      "execution_count": 40,
      "metadata": {
        "id": "Yf6ca4jQAqJ5"
      },
      "outputs": [],
      "source": [
        "import pickle\n",
        "import pandas as pd\n",
        "import os\n",
        "import numpy as np\n",
        "import torch"
      ]
    },
    {
      "cell_type": "code",
      "source": [
        "annotations_converter = pickle.load(open(\"/content/annotation_converter.pkl\", \"rb\"))\n",
        "annotations_csv_path = \"/content/midlevel.chunks_90.csv\"\n",
        "df_annotations = pd.read_csv(annotations_csv_path, delimiter=',')"
      ],
      "metadata": {
        "id": "-b1_poBoHIH3"
      },
      "execution_count": 41,
      "outputs": []
    },
    {
      "cell_type": "code",
      "source": [
        "print(annotations_converter)"
      ],
      "metadata": {
        "colab": {
          "base_uri": "https://localhost:8080/"
        },
        "id": "cyosvK7VLVvN",
        "outputId": "15bc1c40-6e92-408a-e7af-4b8dc85ad63a"
      },
      "execution_count": 53,
      "outputs": [
        {
          "output_type": "stream",
          "name": "stdout",
          "text": [
            "['closing_bottle', 'closing_door_inside', 'closing_door_outside', 'closing_laptop', 'drinking', 'eating', 'entering_car', 'exiting_car', 'fastening_seat_belt', 'fetching_an_object', 'interacting_with_phone', 'looking_or_moving_around (e.g. searching)', 'opening_backpack', 'opening_bottle', 'opening_door_inside', 'opening_door_outside', 'opening_laptop', 'placing_an_object', 'preparing_food', 'pressing_automation_button', 'putting_laptop_into_backpack', 'putting_on_jacket', 'putting_on_sunglasses', 'reading_magazine', 'reading_newspaper', 'sitting_still', 'taking_laptop_from_backpack', 'taking_off_jacket', 'taking_off_sunglasses', 'talking_on_phone', 'unfastening_seat_belt', 'using_multimedia_display', 'working_on_laptop', 'writing']\n"
          ]
        }
      ]
    },
    {
      "cell_type": "code",
      "source": [
        "activity_index_map = {activity: index for index, activity in enumerate(annotations_converter)}\n",
        "df_annotations['activity_index'] = df_annotations['activity'].map(activity_index_map)"
      ],
      "metadata": {
        "id": "-993sYRhHJ_Z"
      },
      "execution_count": 42,
      "outputs": []
    },
    {
      "cell_type": "code",
      "source": [
        "for root, _, files in os.walk(\"/content/results\"):\n",
        "    for file in files:\n",
        "        folder_name = os.path.basename(root)\n",
        "        file_path = f\"/content/results/{folder_name}/{file}\"\n",
        "        tensors = torch.load(file_path)\n",
        "        filtered_annotations = df_annotations[\n",
        "            df_annotations[\"file_id\"]\n",
        "            == f\"{folder_name}/{os.path.splitext(file)[0]}\"\n",
        "        ]\n",
        "        flattened_data = []\n",
        "        max_frame = filtered_annotations[\"frame_end\"].max()\n",
        "        tensors_len = len(tensors)\n",
        "        for _, row in filtered_annotations.iterrows():\n",
        "            if pd.notna(row[\"activity_index\"]):\n",
        "                for frame in range(row[\"frame_start\"], row[\"frame_end\"] + 1):\n",
        "                    if frame < tensors_len:\n",
        "                        flattened_data.append(\n",
        "                            {\n",
        "                                \"frame\": frame,\n",
        "                                \"activity\": row[\"activity\"],\n",
        "                                \"activity_index\": int(row[\"activity_index\"]),\n",
        "                                \"predicted\": annotations_converter[int(np.argmax(tensors[frame]))],\n",
        "                                \"predicted_index\": np.argmax(tensors[frame]),\n",
        "                            }\n",
        "                        )\n",
        "        flattened_df = pd.DataFrame(flattened_data)\n",
        "        flattened_df.to_csv(f'/content/csv/{folder_name}-{os.path.splitext(file)[0]}.csv', index=False)\n",
        "        matches = flattened_df['activity_index'] == flattened_df['predicted_index']\n",
        "        accuracy = matches.sum() / len(flattened_df) * 100\n",
        "        print(f\"Accuracy for '{folder_name}/{os.path.splitext(file)[0]}' is {accuracy:.2f}%\")"
      ],
      "metadata": {
        "colab": {
          "base_uri": "https://localhost:8080/"
        },
        "id": "6muFDF2AH7hd",
        "outputId": "da3a45bc-cc8b-470b-9be7-97d9d8c53b8f"
      },
      "execution_count": 62,
      "outputs": [
        {
          "output_type": "stream",
          "name": "stderr",
          "text": [
            "<ipython-input-62-3f4dae97fdb8>:5: FutureWarning: You are using `torch.load` with `weights_only=False` (the current default value), which uses the default pickle module implicitly. It is possible to construct malicious pickle data which will execute arbitrary code during unpickling (See https://github.com/pytorch/pytorch/blob/main/SECURITY.md#untrusted-models for more details). In a future release, the default value for `weights_only` will be flipped to `True`. This limits the functions that could be executed during unpickling. Arbitrary objects will no longer be allowed to be loaded via this mode unless they are explicitly allowlisted by the user via `torch.serialization.add_safe_globals`. We recommend you start setting `weights_only=True` for any use case where you don't have full control of the loaded file. Please open an issue on GitHub for any issues related to this experimental feature.\n",
            "  tensors = torch.load(file_path)\n"
          ]
        },
        {
          "output_type": "stream",
          "name": "stdout",
          "text": [
            "Accuracy for 'vp12/run1_2018-05-24-15-44-28.kinect_color' is 84.98%\n",
            "Accuracy for 'vp12/run2_2018-05-24-16-21-35.kinect_color' is 85.95%\n",
            "Accuracy for 'vp15/run1_2018-05-30-13-05-35.kinect_color' is 75.14%\n",
            "Accuracy for 'vp15/run2_2018-05-30-13-34-33.kinect_color' is 79.57%\n",
            "Accuracy for 'vp14/run2_2018-05-30-10-42-33.kinect_color' is 71.79%\n",
            "Accuracy for 'vp14/run1_2018-05-30-10-11-09.kinect_color' is 75.01%\n",
            "Accuracy for 'vp13/run2_2018-05-30-11-34-54.kinect_color' is 74.25%\n",
            "Accuracy for 'vp5/run1_2018-05-22-15-10-41.kinect_color' is 71.61%\n",
            "Accuracy for 'vp5/run2b_2018-05-22-15-50-07.kinect_color' is 69.18%\n",
            "Accuracy for 'vp8/run2_2018-05-23-15-30-27.kinect_color' is 87.13%\n",
            "Accuracy for 'vp8/run1d_2018-05-23-14-54-38.kinect_color' is 89.70%\n",
            "Accuracy for 'vp4/run2_2018-05-22-14-25-04.kinect_color' is 87.92%\n",
            "Accuracy for 'vp4/run1_2018-05-22-13-28-51.kinect_color' is 88.54%\n"
          ]
        }
      ]
    }
  ]
}