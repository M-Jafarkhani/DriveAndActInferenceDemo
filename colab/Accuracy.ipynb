{
  "nbformat": 4,
  "nbformat_minor": 0,
  "metadata": {
    "colab": {
      "provenance": []
    },
    "kernelspec": {
      "name": "python3",
      "display_name": "Python 3"
    },
    "language_info": {
      "name": "python"
    }
  },
  "cells": [
    {
      "cell_type": "code",
      "execution_count": 2,
      "metadata": {
        "id": "Yf6ca4jQAqJ5"
      },
      "outputs": [],
      "source": [
        "import pickle\n",
        "import pandas as pd\n",
        "import os\n",
        "import numpy as np\n",
        "import torch"
      ]
    },
    {
      "cell_type": "code",
      "source": [
        "result_folder = 'results'\n",
        "os.makedirs(result_folder, exist_ok=True)\n",
        "\n",
        "for i in range(1, 16):\n",
        "    subfolder_name = f'vp{i}'\n",
        "    os.makedirs(os.path.join(result_folder, subfolder_name), exist_ok=True)"
      ],
      "metadata": {
        "id": "_N0zDITXES31"
      },
      "execution_count": 3,
      "outputs": []
    },
    {
      "cell_type": "code",
      "source": [
        "result_folder = 'csv'\n",
        "os.makedirs(result_folder, exist_ok=True)"
      ],
      "metadata": {
        "id": "i8jNmjg9Eqz7"
      },
      "execution_count": 8,
      "outputs": []
    },
    {
      "cell_type": "code",
      "source": [
        "annotations_converter = pickle.load(open(\"/content/annotation_converter.pkl\", \"rb\"))\n",
        "annotations_csv_path = \"/content/midlevel.chunks_90.csv\"\n",
        "df_annotations = pd.read_csv(annotations_csv_path, delimiter=',')"
      ],
      "metadata": {
        "id": "-b1_poBoHIH3"
      },
      "execution_count": 4,
      "outputs": []
    },
    {
      "cell_type": "code",
      "source": [
        "activity_index_map = {activity: index for index, activity in enumerate(annotations_converter)}\n",
        "df_annotations['activity_index'] = df_annotations['activity'].map(activity_index_map)"
      ],
      "metadata": {
        "id": "-993sYRhHJ_Z"
      },
      "execution_count": 5,
      "outputs": []
    },
    {
      "cell_type": "code",
      "source": [
        "for root, _, files in os.walk(\"/content/results\"):\n",
        "    for file in files:\n",
        "        folder_name = os.path.basename(root)\n",
        "        file_path = f\"/content/results/{folder_name}/{file}\"\n",
        "        tensors = torch.load(file_path)\n",
        "        filtered_annotations = df_annotations[\n",
        "            df_annotations[\"file_id\"]\n",
        "            == f\"{folder_name}/{os.path.splitext(file)[0]}\"\n",
        "        ]\n",
        "        flattened_data = []\n",
        "        max_frame = filtered_annotations[\"frame_end\"].max()\n",
        "        tensors_len = len(tensors)\n",
        "        for _, row in filtered_annotations.iterrows():\n",
        "            if pd.notna(row[\"activity_index\"]):\n",
        "                for frame in range(row[\"frame_start\"], row[\"frame_end\"] + 1):\n",
        "                    if frame < tensors_len:\n",
        "                        flattened_data.append(\n",
        "                            {\n",
        "                                \"frame\": frame,\n",
        "                                \"activity\": row[\"activity\"],\n",
        "                                \"activity_index\": int(row[\"activity_index\"]),\n",
        "                                \"predicted\": annotations_converter[int(np.argmax(tensors[frame]))],\n",
        "                                \"predicted_index\": np.argmax(tensors[frame]),\n",
        "                            }\n",
        "                        )\n",
        "        flattened_df = pd.DataFrame(flattened_data)\n",
        "        flattened_df.to_csv(f'/content/csv/{folder_name}-{os.path.splitext(file)[0]}.csv', index=False)\n",
        "        matches = flattened_df['activity_index'] == flattened_df['predicted_index']\n",
        "        accuracy = matches.sum() / len(flattened_df) * 100\n",
        "        print(f\"Accuracy for '{folder_name}/{os.path.splitext(file)[0]}' is {accuracy:.2f}%\")"
      ],
      "metadata": {
        "colab": {
          "base_uri": "https://localhost:8080/"
        },
        "id": "6muFDF2AH7hd",
        "outputId": "11b39ddc-3c4b-4d75-ec21-8275f8165001"
      },
      "execution_count": 9,
      "outputs": [
        {
          "output_type": "stream",
          "name": "stderr",
          "text": [
            "<ipython-input-9-96bb50ac57a6>:5: FutureWarning: You are using `torch.load` with `weights_only=False` (the current default value), which uses the default pickle module implicitly. It is possible to construct malicious pickle data which will execute arbitrary code during unpickling (See https://github.com/pytorch/pytorch/blob/main/SECURITY.md#untrusted-models for more details). In a future release, the default value for `weights_only` will be flipped to `True`. This limits the functions that could be executed during unpickling. Arbitrary objects will no longer be allowed to be loaded via this mode unless they are explicitly allowlisted by the user via `torch.serialization.add_safe_globals`. We recommend you start setting `weights_only=True` for any use case where you don't have full control of the loaded file. Please open an issue on GitHub for any issues related to this experimental feature.\n",
            "  tensors = torch.load(file_path)\n"
          ]
        },
        {
          "output_type": "stream",
          "name": "stdout",
          "text": [
            "Accuracy for 'vp2/run1_2018-05-03-14-08-31.kinect_color' is 89.39%\n",
            "Accuracy for 'vp2/run2_2018-05-24-17-22-26.kinect_color' is 88.12%\n"
          ]
        }
      ]
    }
  ]
}