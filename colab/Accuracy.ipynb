{
  "nbformat": 4,
  "nbformat_minor": 0,
  "metadata": {
    "colab": {
      "provenance": []
    },
    "kernelspec": {
      "name": "python3",
      "display_name": "Python 3"
    },
    "language_info": {
      "name": "python"
    }
  },
  "cells": [
    {
      "cell_type": "code",
      "execution_count": 2,
      "metadata": {
        "id": "Yf6ca4jQAqJ5"
      },
      "outputs": [],
      "source": [
        "import pickle\n",
        "import pandas as pd\n",
        "import os\n",
        "import numpy as np\n",
        "import torch"
      ]
    },
    {
      "cell_type": "code",
      "source": [
        "result_folder = 'results'\n",
        "os.makedirs(result_folder, exist_ok=True)\n",
        "\n",
        "for i in range(1, 16):\n",
        "    subfolder_name = f'vp{i}'\n",
        "    os.makedirs(os.path.join(result_folder, subfolder_name), exist_ok=True)"
      ],
      "metadata": {
        "id": "_N0zDITXES31"
      },
      "execution_count": 2,
      "outputs": []
    },
    {
      "cell_type": "code",
      "source": [
        "result_folder = 'csv'\n",
        "os.makedirs(result_folder, exist_ok=True)"
      ],
      "metadata": {
        "id": "i8jNmjg9Eqz7"
      },
      "execution_count": 3,
      "outputs": []
    },
    {
      "cell_type": "code",
      "source": [
        "import zipfile\n",
        "with zipfile.ZipFile('/content/results.zip', 'r') as zip_ref:\n",
        "  zip_ref.extractall('.')"
      ],
      "metadata": {
        "id": "EwpRKoewODep"
      },
      "execution_count": 5,
      "outputs": []
    },
    {
      "cell_type": "code",
      "source": [
        "import pickle\n",
        "import pandas as pd\n",
        "import os\n",
        "import numpy as np\n",
        "import torch\n",
        "\n",
        "\n",
        "result_folder = 'results'\n",
        "os.makedirs(result_folder, exist_ok=True)\n",
        "\n",
        "for i in range(1, 16):\n",
        "    subfolder_name = f'vp{i}'\n",
        "    os.makedirs(os.path.join(result_folder, subfolder_name), exist_ok=True)\n",
        "result_folder = 'csv'\n",
        "os.makedirs(result_folder, exist_ok=True)"
      ],
      "metadata": {
        "id": "-7ZboJp5N1a8"
      },
      "execution_count": 7,
      "outputs": []
    },
    {
      "cell_type": "code",
      "source": [
        "annotations_converter = pickle.load(open(\"/content/annotation_converter.pkl\", \"rb\"))\n",
        "annotations_csv_path = \"/content/midlevel.chunks_90.csv\"\n",
        "df_annotations = pd.read_csv(annotations_csv_path, delimiter=',')"
      ],
      "metadata": {
        "id": "-b1_poBoHIH3"
      },
      "execution_count": 6,
      "outputs": []
    },
    {
      "cell_type": "code",
      "source": [
        "import shutil\n",
        "shutil.rmtree('/content/__MACOSX')"
      ],
      "metadata": {
        "colab": {
          "base_uri": "https://localhost:8080/"
        },
        "id": "uJi9TKSJPGvP",
        "outputId": "bdf39886-8796-446a-9281-5268b3cf04ba"
      },
      "execution_count": 14,
      "outputs": [
        {
          "output_type": "stream",
          "name": "stdout",
          "text": [
            "Folder 'results' and its contents deleted successfully.\n"
          ]
        }
      ]
    },
    {
      "cell_type": "code",
      "source": [
        "activity_index_map = {activity: index for index, activity in enumerate(annotations_converter)}\n",
        "df_annotations['activity_index'] = df_annotations['activity'].map(activity_index_map)"
      ],
      "metadata": {
        "id": "-993sYRhHJ_Z"
      },
      "execution_count": 7,
      "outputs": []
    },
    {
      "cell_type": "code",
      "source": [
        "acc_dict = {}\n",
        "for root, _, files in os.walk(\"/content/results\"):\n",
        "    for file in files:\n",
        "        folder_name = os.path.basename(root)\n",
        "        if file == \".DS_Store\":\n",
        "          continue\n",
        "        file_path = f\"/content/results/{folder_name}/{file}\"\n",
        "        tensors = torch.load(file_path)\n",
        "        filtered_annotations = df_annotations[\n",
        "            df_annotations[\"file_id\"]\n",
        "            == f\"{folder_name}/{os.path.splitext(file)[0]}\"\n",
        "        ]\n",
        "        flattened_data = []\n",
        "        max_frame = filtered_annotations[\"frame_end\"].max()\n",
        "        tensors_len = len(tensors)\n",
        "        for _, row in filtered_annotations.iterrows():\n",
        "            if pd.notna(row[\"activity_index\"]):\n",
        "                for frame in range(row[\"frame_start\"], row[\"frame_end\"] + 1):\n",
        "                    if frame < tensors_len:\n",
        "                        top_3_indices = np.argsort(tensors[frame])[-3:][::-1]\n",
        "                        flattened_data.append(\n",
        "                            {\n",
        "                                \"frame\": frame,\n",
        "                                \"activity\": row[\"activity\"],\n",
        "                                \"activity_index\": int(row[\"activity_index\"]),\n",
        "                                \"predicted\": annotations_converter[int(np.argmax(tensors[frame]))],\n",
        "                                \"predicted_index\": np.argmax(tensors[frame])\n",
        "                            }\n",
        "                        )\n",
        "        flattened_df = pd.DataFrame(flattened_data)\n",
        "        if(len(flattened_df) == 0):\n",
        "          continue\n",
        "        matches = flattened_df['activity_index'] == flattened_df['predicted_index']\n",
        "        accuracy = matches.sum() / len(flattened_df) * 100\n",
        "        acc_dict[f\"{folder_name}/{os.path.splitext(file)[0]}\"] = accuracy\n",
        "        print(f\"Accuracy for '{folder_name}/{os.path.splitext(file)[0]}' is {accuracy:.2f}%\")"
      ],
      "metadata": {
        "colab": {
          "base_uri": "https://localhost:8080/"
        },
        "id": "6muFDF2AH7hd",
        "outputId": "4ef5a1d6-b402-49c2-e587-124e8b818c69"
      },
      "execution_count": 8,
      "outputs": [
        {
          "output_type": "stream",
          "name": "stderr",
          "text": [
            "<ipython-input-8-3a510c972344>:8: FutureWarning: You are using `torch.load` with `weights_only=False` (the current default value), which uses the default pickle module implicitly. It is possible to construct malicious pickle data which will execute arbitrary code during unpickling (See https://github.com/pytorch/pytorch/blob/main/SECURITY.md#untrusted-models for more details). In a future release, the default value for `weights_only` will be flipped to `True`. This limits the functions that could be executed during unpickling. Arbitrary objects will no longer be allowed to be loaded via this mode unless they are explicitly allowlisted by the user via `torch.serialization.add_safe_globals`. We recommend you start setting `weights_only=True` for any use case where you don't have full control of the loaded file. Please open an issue on GitHub for any issues related to this experimental feature.\n",
            "  tensors = torch.load(file_path)\n"
          ]
        },
        {
          "output_type": "stream",
          "name": "stdout",
          "text": [
            "Accuracy for 'vp14/run1_2018-05-30-10-11-09.kinect_color' is 75.01%\n",
            "Accuracy for 'vp14/run2_2018-05-30-10-42-33.kinect_color' is 71.79%\n",
            "Accuracy for 'vp15/run2_2018-05-30-13-34-33.kinect_color' is 79.57%\n",
            "Accuracy for 'vp15/run1_2018-05-30-13-05-35.kinect_color' is 75.14%\n",
            "Accuracy for 'vp6/run2_2018-05-23-11-05-00.kinect_color' is 86.37%\n",
            "Accuracy for 'vp6/run1_2018-05-23-10-21-45.kinect_color' is 86.91%\n",
            "Accuracy for 'vp7/run1_2018-05-23-13-16-52.kinect_color' is 85.01%\n",
            "Accuracy for 'vp7/run2b_2018-05-23-13-54-07.kinect_color' is 82.19%\n",
            "Accuracy for 'vp12/run1_2018-05-24-15-44-28.kinect_color' is 84.98%\n",
            "Accuracy for 'vp12/run2_2018-05-24-16-21-35.kinect_color' is 85.95%\n",
            "Accuracy for 'vp11/run1_2018-05-24-13-44-01.kinect_color' is 80.81%\n",
            "Accuracy for 'vp11/run2_2018-05-24-14-35-56.kinect_color' is 69.73%\n",
            "Accuracy for 'vp3/run2_2018-05-29-16-03-37.kinect_color' is 87.67%\n",
            "Accuracy for 'vp3/run1b_2018-05-08-08-46-01.kinect_color' is 86.91%\n",
            "Accuracy for 'vp8/run1d_2018-05-23-14-54-38.kinect_color' is 89.70%\n",
            "Accuracy for 'vp8/run2_2018-05-23-15-30-27.kinect_color' is 87.13%\n",
            "Accuracy for 'vp5/run1_2018-05-22-15-10-41.kinect_color' is 71.61%\n",
            "Accuracy for 'vp5/run2b_2018-05-22-15-50-07.kinect_color' is 69.18%\n",
            "Accuracy for 'vp4/run1_2018-05-22-13-28-51.kinect_color' is 88.54%\n",
            "Accuracy for 'vp4/run2_2018-05-22-14-25-04.kinect_color' is 87.92%\n",
            "Accuracy for 'vp10/run2_2018-05-24-14-08-46.kinect_color' is 87.39%\n",
            "Accuracy for 'vp10/run1_2018-05-24-13-14-41.kinect_color' is 84.96%\n",
            "Accuracy for 'vp13/run2_2018-05-30-11-34-54.kinect_color' is 74.25%\n",
            "Accuracy for 'vp13/run1_2018-05-29-15-21-10.kinect_color' is 75.62%\n",
            "Accuracy for 'vp9/run1b_2018-05-23-16-19-17.kinect_color' is 81.06%\n"
          ]
        },
        {
          "output_type": "stream",
          "name": "stderr",
          "text": [
            "<ipython-input-8-3a510c972344>:8: FutureWarning: You are using `torch.load` with `weights_only=False` (the current default value), which uses the default pickle module implicitly. It is possible to construct malicious pickle data which will execute arbitrary code during unpickling (See https://github.com/pytorch/pytorch/blob/main/SECURITY.md#untrusted-models for more details). In a future release, the default value for `weights_only` will be flipped to `True`. This limits the functions that could be executed during unpickling. Arbitrary objects will no longer be allowed to be loaded via this mode unless they are explicitly allowlisted by the user via `torch.serialization.add_safe_globals`. We recommend you start setting `weights_only=True` for any use case where you don't have full control of the loaded file. Please open an issue on GitHub for any issues related to this experimental feature.\n",
            "  tensors = torch.load(file_path)\n"
          ]
        },
        {
          "output_type": "stream",
          "name": "stdout",
          "text": [
            "Accuracy for 'vp2/run1_2018-05-03-14-08-31.kinect_color' is 89.39%\n",
            "Accuracy for 'vp2/run2_2018-05-24-17-22-26.kinect_color' is 88.12%\n",
            "Accuracy for 'vp1/run2_2018-05-29-14-33-44.kinect_color' is 89.72%\n",
            "Accuracy for 'vp1/run1b_2018-05-29-14-02-47.kinect_color' is 83.12%\n"
          ]
        }
      ]
    },
    {
      "cell_type": "code",
      "source": [
        "acc_data = []\n",
        "for file_id, accuracy in acc_dict.items():\n",
        "  vp = int(file_id.split('/')[0].split('vp')[1])\n",
        "  run = int(file_id.split('run')[1][0])\n",
        "  acc_data.append([vp, run, accuracy])\n",
        "  print(f\"File ID: {vp}-{run}, Accuracy: {accuracy:.2f}%\")\n",
        "acc_data.append([9, 2, 0.0])\n",
        "sorted_data = sorted(acc_data, key=lambda x: (x[0], x[1]))"
      ],
      "metadata": {
        "colab": {
          "base_uri": "https://localhost:8080/"
        },
        "id": "P4VlnclOXXmL",
        "outputId": "38753f61-ac4b-4899-942c-c41abf403101"
      },
      "execution_count": 40,
      "outputs": [
        {
          "output_type": "stream",
          "name": "stdout",
          "text": [
            "File ID: 14-1, Accuracy: 75.01%\n",
            "File ID: 14-2, Accuracy: 71.79%\n",
            "File ID: 15-2, Accuracy: 79.57%\n",
            "File ID: 15-1, Accuracy: 75.14%\n",
            "File ID: 6-2, Accuracy: 86.37%\n",
            "File ID: 6-1, Accuracy: 86.91%\n",
            "File ID: 7-1, Accuracy: 85.01%\n",
            "File ID: 7-2, Accuracy: 82.19%\n",
            "File ID: 12-1, Accuracy: 84.98%\n",
            "File ID: 12-2, Accuracy: 85.95%\n",
            "File ID: 11-1, Accuracy: 80.81%\n",
            "File ID: 11-2, Accuracy: 69.73%\n",
            "File ID: 3-2, Accuracy: 87.67%\n",
            "File ID: 3-1, Accuracy: 86.91%\n",
            "File ID: 8-1, Accuracy: 89.70%\n",
            "File ID: 8-2, Accuracy: 87.13%\n",
            "File ID: 5-1, Accuracy: 71.61%\n",
            "File ID: 5-2, Accuracy: 69.18%\n",
            "File ID: 4-1, Accuracy: 88.54%\n",
            "File ID: 4-2, Accuracy: 87.92%\n",
            "File ID: 10-2, Accuracy: 87.39%\n",
            "File ID: 10-1, Accuracy: 84.96%\n",
            "File ID: 13-2, Accuracy: 74.25%\n",
            "File ID: 13-1, Accuracy: 75.62%\n",
            "File ID: 9-1, Accuracy: 81.06%\n",
            "File ID: 2-1, Accuracy: 89.39%\n",
            "File ID: 2-2, Accuracy: 88.12%\n",
            "File ID: 1-2, Accuracy: 89.72%\n",
            "File ID: 1-1, Accuracy: 83.12%\n"
          ]
        }
      ]
    },
    {
      "cell_type": "code",
      "source": [
        "import matplotlib.pyplot as plt\n",
        "import numpy as np\n",
        "\n",
        "# Extract labels and values\n",
        "x_labels = [f\"VP{x[0]} R{x[1]}\" for x in sorted_data]\n",
        "accuracies = [x[2] for x in sorted_data]\n",
        "\n",
        "# Create spacing between groups\n",
        "x = []\n",
        "spacing = 1.5 # Space between groups\n",
        "gap = 2.5  # Extra space between different VPs\n",
        "current_x = 0\n",
        "previous_vp = None\n",
        "colors = []\n",
        "color_map = ['skyblue', 'lightcoral']\n",
        " # Define colors for alternating groups\n",
        "\n",
        "for i, item in enumerate(sorted_data):\n",
        "    vp = item[0]\n",
        "    if previous_vp is not None and vp != previous_vp:\n",
        "        current_x += gap  # Add extra space between different VPs\n",
        "    x.append(current_x)\n",
        "    current_x += spacing  # Normal spacing within same VP\n",
        "    previous_vp = vp\n",
        "    colors.append(color_map[i // 2 % 2])  # Alternate colors for VP groups\n",
        "\n",
        "# Create the plot\n",
        "plt.figure(figsize=(15, 5))\n",
        "plt.bar(x, accuracies, color=colors, width=0.8)  # Adjust bar width\n",
        "plt.xticks(x, x_labels, rotation=45, ha=\"right\")\n",
        "plt.ylabel(\"Accuracy\")\n",
        "plt.xlabel(\"VP and Run\")\n",
        "plt.title(\"Accuracy per VP and Run\")\n",
        "plt.grid(axis='y', linestyle='--', alpha=0.4)\n",
        "plt.show()"
      ],
      "metadata": {
        "colab": {
          "base_uri": "https://localhost:8080/",
          "height": 524
        },
        "id": "F6VzZHt9TaII",
        "outputId": "0e50b875-5747-4fce-825b-d36c1689f5a2"
      },
      "execution_count": 63,
      "outputs": [
        {
          "output_type": "display_data",
          "data": {
            "text/plain": [
              "<Figure size 1500x500 with 1 Axes>"
            ],
            "image/png": "[encoded data removed]"
          },
          "metadata": {}
        }
      ]
    },
    {
      "cell_type": "code",
      "source": [],
      "metadata": {
        "id": "ZZoDxhMGUh6-"
      },
      "execution_count": null,
      "outputs": []
    }
  ]
}